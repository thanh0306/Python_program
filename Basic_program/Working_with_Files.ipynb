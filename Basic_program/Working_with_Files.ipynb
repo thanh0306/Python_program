{
 "cells": [
  {
   "cell_type": "markdown",
   "metadata": {},
   "source": [
    "## 1. Reading Files \n",
    "There is a file in the same directory with the exercise source code called \"facts.txt\", which has a long strip of text. Create a program which reads the entire content of the file and prints it on the screen with the text \"Following was read from the file:\""
   ]
  },
  {
   "cell_type": "code",
   "execution_count": 2,
   "metadata": {},
   "outputs": [
    {
     "name": "stdout",
     "output_type": "stream",
     "text": [
      "Following was read from the file: Hello! This is Thanh\n",
      "This is a test.\n"
     ]
    }
   ],
   "source": [
    "f = open(\"facts.txt\", \"r\")\n",
    "print(\"Following was read from the file: {}\".format(f.read()))\n",
    "\n",
    "f.close()"
   ]
  },
  {
   "cell_type": "markdown",
   "metadata": {},
   "source": [
    "## 2. Writing to a file\n",
    "Build a program which prompts the user for a file name \"Give a file name: \" and then for an input \"Write something: \". After this, the program writes the string given by the user to the file and reports \"Wrote [input] to the file [name].\""
   ]
  },
  {
   "cell_type": "code",
   "execution_count": 3,
   "metadata": {},
   "outputs": [
    {
     "name": "stdout",
     "output_type": "stream",
     "text": [
      "Give a file name: write_test.txt\n",
      "Write something: This is me, Thanh\n",
      "Wrote This is me, Thanh to the file write_test.txt\n"
     ]
    }
   ],
   "source": [
    "# -*- coding: cp1252 -*-\n",
    "filename = input(\"Give a file name: \")\n",
    "contents = input(\"Write something: \")\n",
    "with open(filename, \"w\") as f:\n",
    "    f.write(contents)\n",
    "with open(filename, \"r\") as f:\n",
    "    contents_f = f.read()\n",
    "print(\"Wrote \" + contents_f + \" to the file \" + filename)"
   ]
  },
  {
   "cell_type": "markdown",
   "metadata": {},
   "source": [
    "## 3. Read lines by lines in the Files\n",
    "Create a program which reads all of the lines from the file and tests the lines. If the line has only letters and/or numbers, the program prints \"[line] was ok.\". If the line has special characters, the program should print \"[line] was invalid.\". When the program works, it prints out something like this:"
   ]
  },
  {
   "cell_type": "code",
   "execution_count": 4,
   "metadata": {},
   "outputs": [
    {
     "name": "stdout",
     "output_type": "stream",
     "text": [
      "5345m345Ã¶34l was invalid.\n",
      "no2no123non4 was ok.\n",
      "noq234n5ioqw#% was invalid.\n",
      "%#\"\"SGMSGSER was invalid.\n",
      "doghdp5234 was ok.\n",
      "sg,dermoepm was invalid.\n",
      "43453-frgsd was invalid.\n",
      "hsth())) was invalid.\n",
      "bmepm35wae was ok.\n",
      "vmopaem2234+0+ was invalid.\n",
      "gsdm12313 was ok.\n",
      "bbrbwb55be3\"?\"#? was invalid.\n",
      "\"?\"#%#\"!%#\"&\"?%%\"?#?#\"?\" was invalid.\n",
      "retrte#%#?% was invalid.\n",
      "abcdefghijklmnopqrstuvxy was ok.\n"
     ]
    }
   ],
   "source": [
    "#import module for checking special characters\n",
    "from string import printable\n",
    "with open(\"strings.txt\", \"r\") as working:\n",
    "    for line in working:\n",
    "        variable = line.rstrip() #remove blank space in the right of the string\n",
    "        if set(variable).difference(printable): #check for special characters\n",
    "            print(\"{} was invalid.\".format(variable))\n",
    "        elif variable.isalnum() == True:\n",
    "            print(\"{} was ok.\".format(variable))\n",
    "        elif variable.isdigit() == True:\n",
    "            print(\"{} was ok.\".format(variable))\n",
    "        elif variable.isalnum() == False:\n",
    "            print(\"{} was invalid.\".format(variable))"
   ]
  },
  {
   "cell_type": "code",
   "execution_count": null,
   "metadata": {},
   "outputs": [],
   "source": []
  }
 ],
 "metadata": {
  "kernelspec": {
   "display_name": "Python 3",
   "language": "python",
   "name": "python3"
  },
  "language_info": {
   "codemirror_mode": {
    "name": "ipython",
    "version": 3
   },
   "file_extension": ".py",
   "mimetype": "text/x-python",
   "name": "python",
   "nbconvert_exporter": "python",
   "pygments_lexer": "ipython3",
   "version": "3.7.6"
  }
 },
 "nbformat": 4,
 "nbformat_minor": 4
}
