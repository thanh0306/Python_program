{
 "cells": [
  {
   "cell_type": "markdown",
   "metadata": {},
   "source": [
    "## 1. Random module - coin flipping\n",
    "Create a program, which simulates coin flips by randomly selecting 0 (Tails) or 1 (Heads) and printing out the result."
   ]
  },
  {
   "cell_type": "code",
   "execution_count": 19,
   "metadata": {},
   "outputs": [
    {
     "name": "stdout",
     "output_type": "stream",
     "text": [
      "Heads!\n"
     ]
    }
   ],
   "source": [
    "# -*- coding: cp1252 -*-\n",
    "import random as rd\n",
    "\n",
    "\n",
    "if rd.randint(0, 1) == 1:\n",
    "    print(\"Heads!\")\n",
    "\n",
    "elif rd.randint(0, 1) == 0:\n",
    "    print(\"Tails!\")\n"
   ]
  },
  {
   "cell_type": "markdown",
   "metadata": {},
   "source": [
    "## 2. Testing for appropriate password\n",
    "Create a program have module inspector (created by me) which receives the user-given candidate for a password. If the given input is shorter than 6 characters, contains only letters or only numbers, the module should reject the candidate and return \"The module says no.\". If the input is longer than 6 characters and has both numbers and letters, it should be accepted."
   ]
  },
  {
   "cell_type": "code",
   "execution_count": 34,
   "metadata": {},
   "outputs": [
    {
     "name": "stdout",
     "output_type": "stream",
     "text": [
      "Give a string for testing: password\n",
      "The module says no.\n",
      "Give a string for testing: 123456\n",
      "The module says no.\n",
      "Give a string for testing: Pass12word34\n",
      "This string fits for a password!\n"
     ]
    }
   ],
   "source": [
    "# -*- coding: cp1252 -*-\n",
    "import inspector #create module inspector for testing right structure of password. #The module is located in direct file inspector.py\n",
    "while True:\n",
    "    userinput = input(\"Give a string for testing: \")\n",
    "    tulos = inspector.testme(userinput)\n",
    "    if tulos == True:\n",
    "        print(\"This string fits for a password!\")\n",
    "        break\n",
    "    else:\n",
    "        print(\"The module says no.\")"
   ]
  },
  {
   "cell_type": "code",
   "execution_count": null,
   "metadata": {},
   "outputs": [],
   "source": []
  }
 ],
 "metadata": {
  "kernelspec": {
   "display_name": "Python 3",
   "language": "python",
   "name": "python3"
  },
  "language_info": {
   "codemirror_mode": {
    "name": "ipython",
    "version": 3
   },
   "file_extension": ".py",
   "mimetype": "text/x-python",
   "name": "python",
   "nbconvert_exporter": "python",
   "pygments_lexer": "ipython3",
   "version": "3.7.6"
  }
 },
 "nbformat": 4,
 "nbformat_minor": 4
}
