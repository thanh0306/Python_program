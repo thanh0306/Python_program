{
 "cells": [
  {
   "cell_type": "markdown",
   "metadata": {},
   "source": [
    "## 1. Print first program \"Hello world\""
   ]
  },
  {
   "cell_type": "code",
   "execution_count": 1,
   "metadata": {},
   "outputs": [
    {
     "name": "stdout",
     "output_type": "stream",
     "text": [
      "Hello World!\n",
      "This here is a Python program.\n"
     ]
    }
   ],
   "source": [
    "# -*- coding: cp1252 -*-\n",
    "print(\"Hello World!\")\n",
    "print(\"This here is a Python program.\")"
   ]
  },
  {
   "cell_type": "markdown",
   "metadata": {},
   "source": [
    "## 2. Print a define string"
   ]
  },
  {
   "cell_type": "code",
   "execution_count": 2,
   "metadata": {},
   "outputs": [
    {
     "name": "stdout",
     "output_type": "stream",
     "text": [
      "Our variable has a value which is string-type content.\tIsn't that nice?"
     ]
    }
   ],
   "source": [
    "result = \"Our variable has a value which is string-type content.\\tIsn't that nice\"\n",
    "print(result, end = \"?\")"
   ]
  },
  {
   "cell_type": "markdown",
   "metadata": {},
   "source": [
    "## 3. Counting with variables\n",
    "Define two variables and assign them values of 1000 and 24. After this, make the interpreter do the calculation number1+number2+15 and then take the 2nd exponent (**2) of the result."
   ]
  },
  {
   "cell_type": "code",
   "execution_count": 4,
   "metadata": {},
   "outputs": [
    {
     "name": "stdout",
     "output_type": "stream",
     "text": [
      "The final results of the calculation was: 1079521\n"
     ]
    }
   ],
   "source": [
    "number1 = 1000\n",
    "number2 = 24\n",
    "result = number1 + number2 + 15\n",
    "final_result = result**2\n",
    "print(\"The final results of the calculation was:\", final_result)"
   ]
  },
  {
   "cell_type": "markdown",
   "metadata": {},
   "source": [
    "## 4. Type conversion\n",
    "Convert the first variable to an integer, and multiply the variable with the string by 2. After this, finalize the program to print out the results"
   ]
  },
  {
   "cell_type": "code",
   "execution_count": 5,
   "metadata": {},
   "outputs": [
    {
     "name": "stdout",
     "output_type": "stream",
     "text": [
      "Integer conversion cannot do roundings: 10\n",
      "Multiplying strings also causes trouble: Stringline!Stringline!\n"
     ]
    }
   ],
   "source": [
    "first_variable = 10.6411\n",
    "second_variable = \"Stringline!\"\n",
    "third = int(first_variable)\n",
    "forth = second_variable*2\n",
    "print(\"Integer conversion cannot do roundings: {}\".format(third))\n",
    "print(\"Multiplying strings also causes trouble: {}\".format(forth))"
   ]
  },
  {
   "cell_type": "markdown",
   "metadata": {},
   "source": [
    "## 5. Print structure"
   ]
  },
  {
   "cell_type": "code",
   "execution_count": 6,
   "metadata": {},
   "outputs": [
    {
     "name": "stdout",
     "output_type": "stream",
     "text": [
      "This here is divided to several lines:\n",
      "I am still in the same print-command.\n",
      "\tName:\tPeter\n",
      "\tJob:\tBabysitter\n",
      "\n"
     ]
    }
   ],
   "source": [
    "print(\"This here is divided to several lines:\\nI am still in the same print-command.\\n\\tName:\\tPeter\\n\\tJob:\\tBabysitter\\n\")"
   ]
  },
  {
   "cell_type": "markdown",
   "metadata": {},
   "source": [
    "## 6. Plus calculator"
   ]
  },
  {
   "cell_type": "code",
   "execution_count": 8,
   "metadata": {},
   "outputs": [
    {
     "name": "stdout",
     "output_type": "stream",
     "text": [
      "Calculator\n",
      "Give the first number: 8\n",
      "Give the second number: 6\n",
      "The result is: 14\n"
     ]
    }
   ],
   "source": [
    "print(\"Calculator\")\n",
    "first_number = int(input(\"Give the first number: \"))\n",
    "second_number = int(input(\"Give the second number: \"))\n",
    "print(\"The result is: {}\".format(first_number + second_number))"
   ]
  },
  {
   "cell_type": "markdown",
   "metadata": {},
   "source": [
    "## 7. String slices"
   ]
  },
  {
   "cell_type": "code",
   "execution_count": 10,
   "metadata": {},
   "outputs": [
    {
     "name": "stdout",
     "output_type": "stream",
     "text": [
      "Write somthing: thanh nguyen\n",
      "The first 4 characters were: than\n",
      "The last 4 characters were: uyen\n",
      "The string backwards was: neyugn hnaht\n"
     ]
    }
   ],
   "source": [
    "example = input(\"Write somthing: \")\n",
    "first = example[:4]\n",
    "second = example[-4:]\n",
    "third = example[-1::-1]\n",
    "print(\"The first 4 characters were: {}\".format(first))\n",
    "print(\"The last 4 characters were: {}\".format(second))\n",
    "print(\"The string backwards was: {}\".format(third))"
   ]
  },
  {
   "cell_type": "code",
   "execution_count": null,
   "metadata": {},
   "outputs": [],
   "source": []
  }
 ],
 "metadata": {
  "kernelspec": {
   "display_name": "Python 3",
   "language": "python",
   "name": "python3"
  },
  "language_info": {
   "codemirror_mode": {
    "name": "ipython",
    "version": 3
   },
   "file_extension": ".py",
   "mimetype": "text/x-python",
   "name": "python",
   "nbconvert_exporter": "python",
   "pygments_lexer": "ipython3",
   "version": "3.7.6"
  }
 },
 "nbformat": 4,
 "nbformat_minor": 4
}
