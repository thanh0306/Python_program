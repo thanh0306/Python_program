{
 "cells": [
  {
   "cell_type": "markdown",
   "metadata": {},
   "source": [
    "## 1. Print a list in order\n",
    "Define a list which has four items, strings \"Blue\",\"Red\",\"Yellow\" and \"Green\". After this, make a slice from the list which contains only the first item of the list (list place 0), and print out all of the items with one for-structure."
   ]
  },
  {
   "cell_type": "code",
   "execution_count": 1,
   "metadata": {},
   "outputs": [
    {
     "name": "stdout",
     "output_type": "stream",
     "text": [
      "The first item in the list is: Blue\n",
      "The entire list printed one item a time: \n",
      "Blue\n",
      "Red\n",
      "Yellow\n",
      "Green\n"
     ]
    }
   ],
   "source": [
    "l1 = [\"Blue\", \"Red\", \"Yellow\", \"Green\"]\n",
    "print(\"The first item in the list is: {}\".format(l1[0]))\n",
    "print(\"The entire list printed one item a time: \\n{}\\n{}\\n{}\\n{}\".format(l1[0], l1[1], l1[2], l1[3]))\n"
   ]
  },
  {
   "cell_type": "markdown",
   "metadata": {},
   "source": [
    "## 2. Append to list\n",
    "- Create a small grocery shopping list with the list datastructure. In short, create a program that allows the user to (1) add products to the list, (2) remove items and (3) print the list and quit.\n",
    "- If the user adds something to the list, the program asks \"What will be added?: \" and saves it as the last item in the list. If the user decides to remove something, the program informs the user about how many items there are on the list (There are [number] items in the list.\") and prompts the user for the removed item (\"Which item is deleted?: \"). If the user selects 0, the first item is removed. When the user quits, the final list is printed for the user \"The following items remain in the list:\" followed by the remaining items one per line. If the user selects anything outside the options, including when deleting items, the program responds \"Incorrect selection.\""
   ]
  },
  {
   "cell_type": "code",
   "execution_count": 4,
   "metadata": {},
   "outputs": [
    {
     "name": "stdout",
     "output_type": "stream",
     "text": [
      "Would you like to \n",
      "(1)Add or\n",
      "(2)Remove items or\n",
      "(3)Quit?:1\n",
      "What will be added?: egg\n",
      "Would you like to \n",
      "(1)Add or\n",
      "(2)Remove items or\n",
      "(3)Quit?:1\n",
      "What will be added?: milk\n",
      "Would you like to \n",
      "(1)Add or\n",
      "(2)Remove items or\n",
      "(3)Quit?:2\n",
      "There are 2 items in the list.\n",
      "Which item is deleted?: 3\n",
      "Incorrect selection.\n",
      "Would you like to \n",
      "(1)Add or\n",
      "(2)Remove items or\n",
      "(3)Quit?:2\n",
      "There are 2 items in the list.\n",
      "Which item is deleted?: 1\n",
      "Would you like to \n",
      "(1)Add or\n",
      "(2)Remove items or\n",
      "(3)Quit?:3\n",
      "The following items remain in the list:\n",
      "egg\n"
     ]
    }
   ],
   "source": [
    "result = []\n",
    "select = 0 \n",
    "\n",
    "while select != 3:\n",
    "    select = int(input(\"Would you like to \\n(1)Add or\\n(2)Remove items or\\n(3)Quit?:\"))\n",
    "    if select == 1:\n",
    "        asking = input(\"What will be added?: \")\n",
    "        result.append(asking)\n",
    "    elif select == 2:\n",
    "        print(\"There are {} items in the list.\".format(len(result)))\n",
    "        asking2 = int(input(\"Which item is deleted?: \"))\n",
    "        if asking2 > (len(result) - 1):\n",
    "            print(\"Incorrect selection.\")\n",
    "        else:\n",
    "            del result[asking2]\n",
    "    elif select > 3 or select < 1:\n",
    "        print(\"Incorrect selection.\")\n",
    "        \n",
    "\n",
    "print(\"The following items remain in the list:\\n{}\".format(\" \".join(result)))"
   ]
  },
  {
   "cell_type": "markdown",
   "metadata": {},
   "source": [
    "## 3. List method\n",
    "There is a file named \"words.txt\", which has a randomly selected set of words. Build a program, which reads all of the words from the file, sorts them in alphabetic order and prints out the list with the statement \"Words in an alphabetical order:\"."
   ]
  },
  {
   "cell_type": "code",
   "execution_count": 6,
   "metadata": {},
   "outputs": [
    {
     "name": "stdout",
     "output_type": "stream",
     "text": [
      "Words in an alphabetical order:\n",
      "aardvark\n",
      "beercase\n",
      "buzz\n",
      "hammer\n",
      "house\n",
      "lion\n",
      "nail\n",
      "roadworks\n",
      "salesman\n",
      "shovel\n",
      "table\n",
      "xenon\n"
     ]
    }
   ],
   "source": [
    "with open(\"words.txt\", \"r\") as f:\n",
    "            content = f.read()\n",
    "            order_list = sorted(content.split())\n",
    "print(\"Words in an alphabetical order:\")\n",
    "print(\"\\n\".join(order_list))"
   ]
  },
  {
   "cell_type": "code",
   "execution_count": null,
   "metadata": {},
   "outputs": [],
   "source": []
  }
 ],
 "metadata": {
  "kernelspec": {
   "display_name": "Python 3",
   "language": "python",
   "name": "python3"
  },
  "language_info": {
   "codemirror_mode": {
    "name": "ipython",
    "version": 3
   },
   "file_extension": ".py",
   "mimetype": "text/x-python",
   "name": "python",
   "nbconvert_exporter": "python",
   "pygments_lexer": "ipython3",
   "version": "3.7.6"
  }
 },
 "nbformat": 4,
 "nbformat_minor": 4
}
