{
 "cells": [
  {
   "cell_type": "markdown",
   "metadata": {},
   "source": [
    "## 1. Get numeric input from user\n",
    "The program avoids the error with an exception handler and prints \"The input was malformed.\""
   ]
  },
  {
   "cell_type": "code",
   "execution_count": 1,
   "metadata": {},
   "outputs": [
    {
     "name": "stdout",
     "output_type": "stream",
     "text": [
      "Give a number: thanh\n",
      "The input was malformed.\n",
      "Give a number: thanh124\n",
      "The input was malformed.\n",
      "Give a number: 123456\n",
      "The input was suitable!\n"
     ]
    }
   ],
   "source": [
    "while True:\n",
    "    mynumber = input(\"Give a number: \")\n",
    "    try:\n",
    "        number = int(mynumber)\n",
    "        print(\"The input was suitable!\")\n",
    "        break \n",
    "    except Exception:\n",
    "        print(\"The input was malformed.\")"
   ]
  },
  {
   "cell_type": "markdown",
   "metadata": {},
   "source": [
    "## 2. Avoiding several errors at once\n",
    "Create a program which prompts the user for a file name. Based on user input, open the given file and read the contents into one big string. Then convert this string to an integer and divides the number 1000 with the number. Finally, print out the result from the division."
   ]
  },
  {
   "cell_type": "code",
   "execution_count": 4,
   "metadata": {},
   "outputs": [
    {
     "name": "stdout",
     "output_type": "stream",
     "text": [
      "Give the file name: thanh\n",
      "There seems to be no file with that name.\n",
      "Give the file name: getstring.txt\n",
      "The file contents were unsuitable.\n",
      "Give the file name: getnumber.txt\n",
      "The result was 0.2372479240806643\n"
     ]
    }
   ],
   "source": [
    "def getname():\n",
    "    name = input(\"Give the file name: \")\n",
    "    return name\n",
    "def main():\n",
    "    while True:\n",
    "    \n",
    "        try:\n",
    "            with open(getname(), \"r\") as f:\n",
    "\n",
    "                content = f.read()\n",
    "                result = 1000/(int(content))\n",
    "\n",
    "\n",
    "\n",
    "        except FileNotFoundError:\n",
    "            print(\"There seems to be no file with that name.\")\n",
    "        except ValueError:\n",
    "            print(\"The file contents were unsuitable.\")\n",
    "        except Exception:\n",
    "            print(\"There was a problem with the program.\")\n",
    "        else:\n",
    "\n",
    "            print(\"The result was {}\".format(result))\n",
    "            break \n",
    "\n",
    "            \n",
    "if __name__ == \"__main__\":\n",
    "    main()"
   ]
  },
  {
   "cell_type": "code",
   "execution_count": null,
   "metadata": {},
   "outputs": [],
   "source": []
  }
 ],
 "metadata": {
  "kernelspec": {
   "display_name": "Python 3",
   "language": "python",
   "name": "python3"
  },
  "language_info": {
   "codemirror_mode": {
    "name": "ipython",
    "version": 3
   },
   "file_extension": ".py",
   "mimetype": "text/x-python",
   "name": "python",
   "nbconvert_exporter": "python",
   "pygments_lexer": "ipython3",
   "version": "3.7.6"
  }
 },
 "nbformat": 4,
 "nbformat_minor": 4
}
