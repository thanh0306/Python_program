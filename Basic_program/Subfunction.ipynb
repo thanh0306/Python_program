{
 "cells": [
  {
   "cell_type": "markdown",
   "metadata": {},
   "source": [
    "## 1. Create first subfunction:\n",
    "Create a program with a main function and a separate subfunction called hello, which when called prints \"Hello there!\""
   ]
  },
  {
   "cell_type": "code",
   "execution_count": 1,
   "metadata": {},
   "outputs": [
    {
     "name": "stdout",
     "output_type": "stream",
     "text": [
      "Lets call the subfunction:\n",
      "Hello there!\n",
      "Quitting.\n"
     ]
    }
   ],
   "source": [
    "def hello(x):\n",
    "    print(x)\n",
    "    \n",
    "def main():\n",
    "    string1 = \"Lets call the subfunction:\"\n",
    "    string2 = \"Quitting.\"\n",
    "    x = \"Hello there!\"\n",
    "    print(string1)\n",
    "    hello(x)\n",
    "    print(string2)\n",
    "\n",
    "\n",
    "if __name__ == \"__main__\":\n",
    "    main()"
   ]
  },
  {
   "cell_type": "markdown",
   "metadata": {},
   "source": [
    "## 2. Power of two subfunction \n",
    "Create a program which has the main function and a subfunction \"poweroftwo\". The main function prompts the user for a number \"Give a number: \" and then this number is sent to the subfunction as a parameter. The subfunction calculates the n:th power of 2 of the number "
   ]
  },
  {
   "cell_type": "code",
   "execution_count": 2,
   "metadata": {},
   "outputs": [
    {
     "name": "stdout",
     "output_type": "stream",
     "text": [
      "Give a number: 5\n",
      "The result is 32\n"
     ]
    }
   ],
   "source": [
    "def poweroftwo(n):\n",
    "    2**n\n",
    "    return print(\"The result is {}\".format(2**n))\n",
    "def main():\n",
    "    n = int(input(\"Give a number: \"))\n",
    "    poweroftwo(n)\n",
    "\n",
    "\n",
    "if __name__ == \"__main__\":\n",
    "    main()"
   ]
  },
  {
   "cell_type": "markdown",
   "metadata": {},
   "source": [
    "## 3. Subfunction for test string\n",
    "Create a program which has the main function prompt the user input string. If the user input is less than 10 characters, the program print \"Too short\". If 10 or more and it has X in it, the program prints the usergiven input and \"X spotted!\". If the user inputs \"quit\", the program is terminated"
   ]
  },
  {
   "cell_type": "code",
   "execution_count": 4,
   "metadata": {},
   "outputs": [
    {
     "name": "stdout",
     "output_type": "stream",
     "text": [
      "Write something (quit ends): thanh nguyen\n",
      "thanh nguyen\n",
      "Write something (quit ends): th\n",
      "Too short\n",
      "Write something (quit ends): X-men\n",
      "Too short\n",
      "Write something (quit ends): X-men The first class\n",
      "X-men The first class\n",
      "X spotted!\n",
      "Write something (quit ends): quit\n"
     ]
    }
   ],
   "source": [
    "def tester(x, givenstring = \"Too short\"):\n",
    "    if len(list(x)) < 10:\n",
    "        print(givenstring)\n",
    "    elif (len(list(x)) >= 10) and (\"X\" in list(x)):\n",
    "        print(x)\n",
    "        print(\"X spotted!\")\n",
    "    elif len(list(x)) >= 10:\n",
    "        print(x)\n",
    "def main():\n",
    "    while True:\n",
    "        x = input(\"Write something (quit ends): \")\n",
    "        if x == \"quit\":\n",
    "            break\n",
    "        tester(x)\n",
    "        continue\n",
    "if __name__ == \"__main__\":\n",
    "    main()"
   ]
  },
  {
   "cell_type": "code",
   "execution_count": null,
   "metadata": {},
   "outputs": [],
   "source": []
  }
 ],
 "metadata": {
  "kernelspec": {
   "display_name": "Python 3",
   "language": "python",
   "name": "python3"
  },
  "language_info": {
   "codemirror_mode": {
    "name": "ipython",
    "version": 3
   },
   "file_extension": ".py",
   "mimetype": "text/x-python",
   "name": "python",
   "nbconvert_exporter": "python",
   "pygments_lexer": "ipython3",
   "version": "3.7.6"
  }
 },
 "nbformat": 4,
 "nbformat_minor": 4
}
