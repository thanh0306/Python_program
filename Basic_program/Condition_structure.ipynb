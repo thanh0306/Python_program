{
 "cells": [
  {
   "cell_type": "markdown",
   "metadata": {},
   "source": [
    "## 1. Check even_odd number"
   ]
  },
  {
   "cell_type": "code",
   "execution_count": 3,
   "metadata": {},
   "outputs": [
    {
     "name": "stdout",
     "output_type": "stream",
     "text": [
      "Give a number: 9\n",
      "Not even number!\n"
     ]
    }
   ],
   "source": [
    "values = int(input(\"Give a number: \"))\n",
    "if values % 2 == 0:\n",
    "    print(\"The given number was even.\")\n",
    "else:\n",
    "    print(\"Not even number!\")"
   ]
  },
  {
   "cell_type": "markdown",
   "metadata": {},
   "source": [
    "## 2. Input correct password\n",
    "Default correct  username is \"John\" and correct password is \"ABC123\""
   ]
  },
  {
   "cell_type": "code",
   "execution_count": 6,
   "metadata": {},
   "outputs": [
    {
     "name": "stdout",
     "output_type": "stream",
     "text": [
      "Give name: John\n",
      "Give password: thanh123\n",
      "The password is incorrect.\n"
     ]
    }
   ],
   "source": [
    "name = input(\"Give name: \")\n",
    "if name == \"John\":\n",
    "    password = input(\"Give password: \")\n",
    "    if password == \"ABC123\":\n",
    "        print(\"Both inputs are correct!\")\n",
    "    else:\n",
    "        print(\"The password is incorrect.\")\n",
    "else:\n",
    "    print(\"The given name is wrong.\")"
   ]
  },
  {
   "cell_type": "markdown",
   "metadata": {},
   "source": [
    "## 3. Testing even_odd number from 2 input\n",
    "Check both input number and print the result"
   ]
  },
  {
   "cell_type": "code",
   "execution_count": 7,
   "metadata": {},
   "outputs": [
    {
     "name": "stdout",
     "output_type": "stream",
     "text": [
      "Give a number: 5\n",
      "Give another number: 8\n",
      "One of the numbers is even.\n"
     ]
    }
   ],
   "source": [
    "number_1 = int(input(\"Give a number: \"))\n",
    "number_2 = int(input(\"Give another number: \"))\n",
    "if (number_1 % 2 == 0) and (number_2 % 2 == 0) :\n",
    "    print(\"Both numbers are even.\")\n",
    "elif (number_1 % 2 != 0) and (number_2 % 2 == 0):\n",
    "    print(\"One of the numbers is even.\")\n",
    "elif (number_1 % 2 == 0) and (number_2 % 2 != 0):\n",
    "    print(\"One of the numbers is even.\")\n",
    "else:\n",
    "    print(\"Both numbers are odd.\")"
   ]
  },
  {
   "cell_type": "markdown",
   "metadata": {},
   "source": [
    "## 4. While-loop\n",
    "Create a program that prompts user for the input, if the user input string \"quit\", the program prints \"Bye bye!\" and shuts down"
   ]
  },
  {
   "cell_type": "code",
   "execution_count": 1,
   "metadata": {},
   "outputs": [
    {
     "name": "stdout",
     "output_type": "stream",
     "text": [
      "Write something: thanh\n",
      "thanh\n",
      "Write something: is\n",
      "is\n",
      "Write something: here\n",
      "here\n",
      "Write something: quit\n",
      "Bye bye!\n"
     ]
    }
   ],
   "source": [
    "while True:\n",
    "    receive = input(\"Write something: \")\n",
    "    if receive == \"quit\":\n",
    "        break\n",
    "    else:\n",
    "        print(receive)\n",
    "print(\"Bye bye!\")"
   ]
  },
  {
   "cell_type": "markdown",
   "metadata": {},
   "source": [
    "## 5. Sum of input\n",
    "Create a mini sum calculator, which asks the user for a number, and calculates the sum of all positive numbers from 0 to the usergiven input. For example, if the user gives the number 4, the program calculates the sum 0+1+2+3"
   ]
  },
  {
   "cell_type": "code",
   "execution_count": 3,
   "metadata": {},
   "outputs": [
    {
     "name": "stdout",
     "output_type": "stream",
     "text": [
      "Give a number: 7\n",
      "The sum was: 21\n"
     ]
    }
   ],
   "source": [
    "sum_number = 0\n",
    "receive = int(input(\"Give a number: \"))\n",
    "for x in range(receive):\n",
    "    sum_number = sum_number + x\n",
    "print(\"The sum was: {}\".format(sum_number))"
   ]
  },
  {
   "cell_type": "code",
   "execution_count": null,
   "metadata": {},
   "outputs": [],
   "source": []
  }
 ],
 "metadata": {
  "kernelspec": {
   "display_name": "Python 3",
   "language": "python",
   "name": "python3"
  },
  "language_info": {
   "codemirror_mode": {
    "name": "ipython",
    "version": 3
   },
   "file_extension": ".py",
   "mimetype": "text/x-python",
   "name": "python",
   "nbconvert_exporter": "python",
   "pygments_lexer": "ipython3",
   "version": "3.7.6"
  }
 },
 "nbformat": 4,
 "nbformat_minor": 4
}
