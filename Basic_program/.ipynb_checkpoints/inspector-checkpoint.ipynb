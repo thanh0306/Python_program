{
 "cells": [
  {
   "cell_type": "code",
   "execution_count": 1,
   "metadata": {},
   "outputs": [],
   "source": [
    "def testme(userinput):\n",
    "    if len(userinput) > 6:\n",
    "        if all(char.isdigit() for char in userinput) == True:\n",
    "            return False\n",
    "        elif any(not char.isalnum() for char in userinput) == True:\n",
    "            return False\n",
    "        elif all(char.isalpha() for char in userinput) == True:\n",
    "            return False\n",
    "        elif any(char.isdigit() for char in userinput) == True:\n",
    "            return True\n",
    "    else:\n",
    "        return False"
   ]
  },
  {
   "cell_type": "code",
   "execution_count": null,
   "metadata": {},
   "outputs": [],
   "source": []
  }
 ],
 "metadata": {
  "kernelspec": {
   "display_name": "Python 3",
   "language": "python",
   "name": "python3"
  },
  "language_info": {
   "codemirror_mode": {
    "name": "ipython",
    "version": 3
   },
   "file_extension": ".py",
   "mimetype": "text/x-python",
   "name": "python",
   "nbconvert_exporter": "python",
   "pygments_lexer": "ipython3",
   "version": "3.7.6"
  }
 },
 "nbformat": 4,
 "nbformat_minor": 4
}
