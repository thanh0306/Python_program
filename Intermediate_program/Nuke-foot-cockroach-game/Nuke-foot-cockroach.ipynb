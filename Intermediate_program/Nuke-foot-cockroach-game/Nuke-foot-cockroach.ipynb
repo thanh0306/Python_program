{
 "cells": [
  {
   "cell_type": "markdown",
   "metadata": {},
   "source": [
    "## 1. Nuke-foot-cockroach-basic\n",
    "- Develop a simple game called nuke-foot-cockroach, which is pretty similar to the more popular variant, paper-rock-scissors. The rules are simple: both players select either nuke, foot or cockroach, and the winner is determined in the following way: Foot beats cockroach, nuke beats foot and cockroach beats nuke. If both the player and the AI select the same, it's a tie, except if both choose nuke, then both lose.\n",
    "- If the player wins, print \"You WIN!\", if they loose \"You LOSE!\". If the round was a tie, either \"It is a tie!\" or \"Both LOSE!\", depending on if the tie was caused by a nuke or not. If the player selects \"quit\", the game ends and the final score is given."
   ]
  },
  {
   "cell_type": "code",
   "execution_count": 1,
   "metadata": {},
   "outputs": [
    {
     "name": "stdout",
     "output_type": "stream",
     "text": [
      "Foot, Nuke or Cockroach? (Quit ends): Nuke\n",
      "You chose: Nuke\n",
      "Computer chose: Nuke\n",
      "Both LOSE!\n",
      "Foot, Nuke or Cockroach? (Quit ends): Foot\n",
      "You chose: Foot\n",
      "Computer chose: Nuke\n",
      "You LOSE!\n",
      "Foot, Nuke or Cockroach? (Quit ends): Foot\n",
      "You chose: Foot\n",
      "Computer chose: Nuke\n",
      "You LOSE!\n",
      "Foot, Nuke or Cockroach? (Quit ends): Foot\n",
      "You chose: Foot\n",
      "Computer chose: Cockroach\n",
      "You WIN!\n",
      "Foot, Nuke or Cockroach? (Quit ends): Foot\n",
      "You chose: Foot\n",
      "Computer chose: Cockroach\n",
      "You WIN!\n",
      "Foot, Nuke or Cockroach? (Quit ends): Foot\n",
      "You chose: Foot\n",
      "Computer chose: Nuke\n",
      "You LOSE!\n",
      "Foot, Nuke or Cockroach? (Quit ends): Cockroach\n",
      "You chose: Cockroach\n",
      "Computer chose: Cockroach\n",
      "It is a tie!\n",
      "Foot, Nuke or Cockroach? (Quit ends): Quit\n",
      "You played 7 rounds, and won 2 rounds, playing tie in 1 rounds.\n"
     ]
    }
   ],
   "source": [
    "def computer(computer_number):\n",
    "    \n",
    "    if computer_number == 1:\n",
    "        computer_chose = \"Foot\"\n",
    "    elif computer_number == 2:\n",
    "        computer_chose = \"Nuke\"\n",
    "    elif computer_number == 3:\n",
    "        computer_chose = \"Cockroach\"\n",
    "    return computer_chose\n",
    "        \n",
    "import random as rd \n",
    "select = 0\n",
    "count = 0\n",
    "count_tie = 0\n",
    "count_win = 0\n",
    "while True:\n",
    "    computer_number = rd.randint(1, 3)\n",
    "    computer(computer_number)\n",
    "    select = input(\"Foot, Nuke or Cockroach? (Quit ends): \")\n",
    "\n",
    "    if select ==\"Quit\":\n",
    "        break\n",
    "    elif (select == computer(computer_number) == \"Nuke\"):\n",
    "        print(\"You chose: {}\".format(select))\n",
    "        print(\"Computer chose: {}\".format(computer(computer_number)))\n",
    "        print(\"Both LOSE!\")\n",
    "        count = count + 1\n",
    "    elif (select == computer(computer_number)) and (select != \"Nuke\"):\n",
    "        print(\"You chose: {}\".format(select))\n",
    "        print(\"Computer chose: {}\".format(computer(computer_number)))\n",
    "        print(\"It is a tie!\") \n",
    "        count_tie = count_tie + 1\n",
    "        count = count + 1\n",
    "    elif (select == \"Foot\") and (computer(computer_number) == \"Cockroach\"):\n",
    "        print(\"You chose: {}\".format(select))\n",
    "        print(\"Computer chose: {}\".format(computer(computer_number)))\n",
    "        print(\"You WIN!\")\n",
    "        count_win = count_win + 1\n",
    "        count = count + 1\n",
    "    elif (select == \"Nuke\") and (computer(computer_number) == \"Foot\"):\n",
    "        print(\"You chose: {}\".format(select))\n",
    "        print(\"Computer chose: {}\".format(computer(computer_number)))\n",
    "        print(\"You WIN!\")\n",
    "        count_win = count_win + 1\n",
    "        count = count + 1\n",
    "    elif (select == \"Cockroach\") and (computer(computer_number) == \"Nuke\"):\n",
    "        print(\"You chose: {}\".format(select))\n",
    "        print(\"Computer chose: {}\".format(computer(computer_number)))\n",
    "        print(\"You WIN!\")\n",
    "        count_win = count_win + 1\n",
    "        count = count + 1\n",
    "    elif select not in [\"Foot\", \"Nuke\", \"Cockroach\"]:\n",
    "        print(\"Incorrect selection.\")\n",
    "        count = count\n",
    "    else:\n",
    "        print(\"You chose: {}\".format(select))\n",
    "        print(\"Computer chose: {}\".format(computer(computer_number)))\n",
    "        print(\"You LOSE!\")\n",
    "        count = count + 1\n",
    "    \n",
    "print(\"You played {} rounds, and won {} rounds, playing tie in {} rounds.\".format(count, count_win, count_tie))"
   ]
  },
  {
   "cell_type": "code",
   "execution_count": null,
   "metadata": {},
   "outputs": [],
   "source": []
  }
 ],
 "metadata": {
  "kernelspec": {
   "display_name": "Python 3",
   "language": "python",
   "name": "python3"
  },
  "language_info": {
   "codemirror_mode": {
    "name": "ipython",
    "version": 3
   },
   "file_extension": ".py",
   "mimetype": "text/x-python",
   "name": "python",
   "nbconvert_exporter": "python",
   "pygments_lexer": "ipython3",
   "version": "3.7.6"
  }
 },
 "nbformat": 4,
 "nbformat_minor": 4
}
